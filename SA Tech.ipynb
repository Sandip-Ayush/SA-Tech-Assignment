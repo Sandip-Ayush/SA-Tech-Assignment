{
 "cells": [
  {
   "cell_type": "code",
   "execution_count": 1,
   "id": "f9c89654",
   "metadata": {},
   "outputs": [],
   "source": [
    "import pandas as pd\n",
    "import seaborn as sns\n",
    "import matplotlib.pyplot as plt"
   ]
  },
  {
   "cell_type": "code",
   "execution_count": 24,
   "id": "e0c885e7",
   "metadata": {},
   "outputs": [],
   "source": [
    "student_response_2021=pd.read_csv(\"C:/Users/adand/Downloads/New folder/student_responses_2021.csv\")\n",
    "\n",
    "student_response_2022=pd.read_csv(\"C:/Users/adand/Downloads/New folder/student_responses_2022.csv\")"
   ]
  },
  {
   "cell_type": "code",
   "execution_count": 25,
   "id": "7d57e1e2",
   "metadata": {},
   "outputs": [
    {
     "data": {
      "text/html": [
       "<div>\n",
       "<style scoped>\n",
       "    .dataframe tbody tr th:only-of-type {\n",
       "        vertical-align: middle;\n",
       "    }\n",
       "\n",
       "    .dataframe tbody tr th {\n",
       "        vertical-align: top;\n",
       "    }\n",
       "\n",
       "    .dataframe thead th {\n",
       "        text-align: right;\n",
       "    }\n",
       "</style>\n",
       "<table border=\"1\" class=\"dataframe\">\n",
       "  <thead>\n",
       "    <tr style=\"text-align: right;\">\n",
       "      <th></th>\n",
       "      <th>student_id</th>\n",
       "      <th>question_id</th>\n",
       "      <th>ability</th>\n",
       "      <th>difficulty</th>\n",
       "      <th>answered_correctly</th>\n",
       "    </tr>\n",
       "  </thead>\n",
       "  <tbody>\n",
       "    <tr>\n",
       "      <th>0</th>\n",
       "      <td>967</td>\n",
       "      <td>40</td>\n",
       "      <td>-0.320326</td>\n",
       "      <td>1.572793</td>\n",
       "      <td>False</td>\n",
       "    </tr>\n",
       "    <tr>\n",
       "      <th>1</th>\n",
       "      <td>135</td>\n",
       "      <td>2</td>\n",
       "      <td>-2.897524</td>\n",
       "      <td>-1.920777</td>\n",
       "      <td>False</td>\n",
       "    </tr>\n",
       "    <tr>\n",
       "      <th>2</th>\n",
       "      <td>553</td>\n",
       "      <td>18</td>\n",
       "      <td>-1.207800</td>\n",
       "      <td>-0.482901</td>\n",
       "      <td>False</td>\n",
       "    </tr>\n",
       "    <tr>\n",
       "      <th>3</th>\n",
       "      <td>564</td>\n",
       "      <td>29</td>\n",
       "      <td>-2.012802</td>\n",
       "      <td>0.360224</td>\n",
       "      <td>False</td>\n",
       "    </tr>\n",
       "    <tr>\n",
       "      <th>4</th>\n",
       "      <td>449</td>\n",
       "      <td>42</td>\n",
       "      <td>0.332158</td>\n",
       "      <td>1.211066</td>\n",
       "      <td>False</td>\n",
       "    </tr>\n",
       "  </tbody>\n",
       "</table>\n",
       "</div>"
      ],
      "text/plain": [
       "   student_id  question_id   ability  difficulty  answered_correctly\n",
       "0         967           40 -0.320326    1.572793               False\n",
       "1         135            2 -2.897524   -1.920777               False\n",
       "2         553           18 -1.207800   -0.482901               False\n",
       "3         564           29 -2.012802    0.360224               False\n",
       "4         449           42  0.332158    1.211066               False"
      ]
     },
     "execution_count": 25,
     "metadata": {},
     "output_type": "execute_result"
    }
   ],
   "source": [
    "student_response_2021.head()\n"
   ]
  },
  {
   "cell_type": "code",
   "execution_count": 26,
   "id": "65d73741",
   "metadata": {},
   "outputs": [
    {
     "data": {
      "text/html": [
       "<div>\n",
       "<style scoped>\n",
       "    .dataframe tbody tr th:only-of-type {\n",
       "        vertical-align: middle;\n",
       "    }\n",
       "\n",
       "    .dataframe tbody tr th {\n",
       "        vertical-align: top;\n",
       "    }\n",
       "\n",
       "    .dataframe thead th {\n",
       "        text-align: right;\n",
       "    }\n",
       "</style>\n",
       "<table border=\"1\" class=\"dataframe\">\n",
       "  <thead>\n",
       "    <tr style=\"text-align: right;\">\n",
       "      <th></th>\n",
       "      <th>student_id</th>\n",
       "      <th>question_id</th>\n",
       "      <th>ability</th>\n",
       "      <th>difficulty</th>\n",
       "      <th>answered_correctly</th>\n",
       "    </tr>\n",
       "  </thead>\n",
       "  <tbody>\n",
       "    <tr>\n",
       "      <th>0</th>\n",
       "      <td>1078</td>\n",
       "      <td>22</td>\n",
       "      <td>1.023237</td>\n",
       "      <td>-0.280792</td>\n",
       "      <td>True</td>\n",
       "    </tr>\n",
       "    <tr>\n",
       "      <th>1</th>\n",
       "      <td>1980</td>\n",
       "      <td>37</td>\n",
       "      <td>-2.243018</td>\n",
       "      <td>1.430540</td>\n",
       "      <td>False</td>\n",
       "    </tr>\n",
       "    <tr>\n",
       "      <th>2</th>\n",
       "      <td>1240</td>\n",
       "      <td>14</td>\n",
       "      <td>3.453396</td>\n",
       "      <td>-0.872714</td>\n",
       "      <td>True</td>\n",
       "    </tr>\n",
       "    <tr>\n",
       "      <th>3</th>\n",
       "      <td>1329</td>\n",
       "      <td>33</td>\n",
       "      <td>1.750230</td>\n",
       "      <td>0.816172</td>\n",
       "      <td>True</td>\n",
       "    </tr>\n",
       "    <tr>\n",
       "      <th>4</th>\n",
       "      <td>1995</td>\n",
       "      <td>17</td>\n",
       "      <td>2.288340</td>\n",
       "      <td>-0.558914</td>\n",
       "      <td>True</td>\n",
       "    </tr>\n",
       "  </tbody>\n",
       "</table>\n",
       "</div>"
      ],
      "text/plain": [
       "   student_id  question_id   ability  difficulty  answered_correctly\n",
       "0        1078           22  1.023237   -0.280792                True\n",
       "1        1980           37 -2.243018    1.430540               False\n",
       "2        1240           14  3.453396   -0.872714                True\n",
       "3        1329           33  1.750230    0.816172                True\n",
       "4        1995           17  2.288340   -0.558914                True"
      ]
     },
     "execution_count": 26,
     "metadata": {},
     "output_type": "execute_result"
    }
   ],
   "source": [
    "student_response_2022.head()"
   ]
  },
  {
   "cell_type": "code",
   "execution_count": 6,
   "id": "2ee06cff",
   "metadata": {},
   "outputs": [
    {
     "name": "stdout",
     "output_type": "stream",
     "text": [
      "<class 'pandas.core.frame.DataFrame'>\n",
      "RangeIndex: 45000 entries, 0 to 44999\n",
      "Data columns (total 5 columns):\n",
      " #   Column              Non-Null Count  Dtype  \n",
      "---  ------              --------------  -----  \n",
      " 0   student_id          45000 non-null  int64  \n",
      " 1   question_id         45000 non-null  int64  \n",
      " 2   ability             44100 non-null  float64\n",
      " 3   difficulty          44100 non-null  float64\n",
      " 4   answered_correctly  45000 non-null  bool   \n",
      "dtypes: bool(1), float64(2), int64(2)\n",
      "memory usage: 1.4 MB\n"
     ]
    }
   ],
   "source": [
    "student_response_2021.info()"
   ]
  },
  {
   "cell_type": "code",
   "execution_count": 7,
   "id": "20a86cfe",
   "metadata": {},
   "outputs": [
    {
     "name": "stdout",
     "output_type": "stream",
     "text": [
      "<class 'pandas.core.frame.DataFrame'>\n",
      "RangeIndex: 50000 entries, 0 to 49999\n",
      "Data columns (total 5 columns):\n",
      " #   Column              Non-Null Count  Dtype  \n",
      "---  ------              --------------  -----  \n",
      " 0   student_id          50000 non-null  int64  \n",
      " 1   question_id         50000 non-null  int64  \n",
      " 2   ability             49000 non-null  float64\n",
      " 3   difficulty          49000 non-null  float64\n",
      " 4   answered_correctly  50000 non-null  bool   \n",
      "dtypes: bool(1), float64(2), int64(2)\n",
      "memory usage: 1.6 MB\n"
     ]
    }
   ],
   "source": [
    "student_response_2022.info()"
   ]
  },
  {
   "cell_type": "code",
   "execution_count": 8,
   "id": "b7aab69e",
   "metadata": {},
   "outputs": [
    {
     "data": {
      "text/plain": [
       "student_id              0\n",
       "question_id             0\n",
       "ability               900\n",
       "difficulty            900\n",
       "answered_correctly      0\n",
       "dtype: int64"
      ]
     },
     "execution_count": 8,
     "metadata": {},
     "output_type": "execute_result"
    }
   ],
   "source": [
    "student_response_2021.isnull().sum()"
   ]
  },
  {
   "cell_type": "code",
   "execution_count": 9,
   "id": "020b4510",
   "metadata": {},
   "outputs": [
    {
     "data": {
      "text/plain": [
       "True     22611\n",
       "False    22389\n",
       "Name: answered_correctly, dtype: int64"
      ]
     },
     "execution_count": 9,
     "metadata": {},
     "output_type": "execute_result"
    }
   ],
   "source": [
    "student_response_2021[\"answered_correctly\"].value_counts()"
   ]
  },
  {
   "cell_type": "code",
   "execution_count": 10,
   "id": "2d0f4aa5",
   "metadata": {},
   "outputs": [
    {
     "data": {
      "text/plain": [
       "student_id               0\n",
       "question_id              0\n",
       "ability               1000\n",
       "difficulty            1000\n",
       "answered_correctly       0\n",
       "dtype: int64"
      ]
     },
     "execution_count": 10,
     "metadata": {},
     "output_type": "execute_result"
    }
   ],
   "source": [
    "student_response_2022.isnull().sum()"
   ]
  },
  {
   "cell_type": "code",
   "execution_count": 11,
   "id": "f7e25915",
   "metadata": {},
   "outputs": [
    {
     "data": {
      "text/plain": [
       "True     26077\n",
       "False    23923\n",
       "Name: answered_correctly, dtype: int64"
      ]
     },
     "execution_count": 11,
     "metadata": {},
     "output_type": "execute_result"
    }
   ],
   "source": [
    "student_response_2022[\"answered_correctly\"].value_counts()"
   ]
  },
  {
   "cell_type": "code",
   "execution_count": 12,
   "id": "71d6a990",
   "metadata": {},
   "outputs": [
    {
     "data": {
      "text/html": [
       "<div>\n",
       "<style scoped>\n",
       "    .dataframe tbody tr th:only-of-type {\n",
       "        vertical-align: middle;\n",
       "    }\n",
       "\n",
       "    .dataframe tbody tr th {\n",
       "        vertical-align: top;\n",
       "    }\n",
       "\n",
       "    .dataframe thead th {\n",
       "        text-align: right;\n",
       "    }\n",
       "</style>\n",
       "<table border=\"1\" class=\"dataframe\">\n",
       "  <thead>\n",
       "    <tr style=\"text-align: right;\">\n",
       "      <th></th>\n",
       "      <th>student_id</th>\n",
       "      <th>question_id</th>\n",
       "      <th>ability</th>\n",
       "      <th>difficulty</th>\n",
       "    </tr>\n",
       "  </thead>\n",
       "  <tbody>\n",
       "    <tr>\n",
       "      <th>count</th>\n",
       "      <td>45000.000000</td>\n",
       "      <td>45000.000000</td>\n",
       "      <td>44100.000000</td>\n",
       "      <td>44100.000000</td>\n",
       "    </tr>\n",
       "    <tr>\n",
       "      <th>mean</th>\n",
       "      <td>500.500000</td>\n",
       "      <td>23.000000</td>\n",
       "      <td>-0.041824</td>\n",
       "      <td>-0.057131</td>\n",
       "    </tr>\n",
       "    <tr>\n",
       "      <th>std</th>\n",
       "      <td>288.678198</td>\n",
       "      <td>12.987317</td>\n",
       "      <td>2.167235</td>\n",
       "      <td>1.053968</td>\n",
       "    </tr>\n",
       "    <tr>\n",
       "      <th>min</th>\n",
       "      <td>1.000000</td>\n",
       "      <td>1.000000</td>\n",
       "      <td>-5.751698</td>\n",
       "      <td>-2.157522</td>\n",
       "    </tr>\n",
       "    <tr>\n",
       "      <th>25%</th>\n",
       "      <td>250.750000</td>\n",
       "      <td>12.000000</td>\n",
       "      <td>-1.507034</td>\n",
       "      <td>-0.870725</td>\n",
       "    </tr>\n",
       "    <tr>\n",
       "      <th>50%</th>\n",
       "      <td>500.500000</td>\n",
       "      <td>23.000000</td>\n",
       "      <td>-0.068255</td>\n",
       "      <td>-0.147794</td>\n",
       "    </tr>\n",
       "    <tr>\n",
       "      <th>75%</th>\n",
       "      <td>750.250000</td>\n",
       "      <td>34.000000</td>\n",
       "      <td>1.442855</td>\n",
       "      <td>0.904278</td>\n",
       "    </tr>\n",
       "    <tr>\n",
       "      <th>max</th>\n",
       "      <td>1000.000000</td>\n",
       "      <td>45.000000</td>\n",
       "      <td>5.889554</td>\n",
       "      <td>1.774446</td>\n",
       "    </tr>\n",
       "  </tbody>\n",
       "</table>\n",
       "</div>"
      ],
      "text/plain": [
       "         student_id   question_id       ability    difficulty\n",
       "count  45000.000000  45000.000000  44100.000000  44100.000000\n",
       "mean     500.500000     23.000000     -0.041824     -0.057131\n",
       "std      288.678198     12.987317      2.167235      1.053968\n",
       "min        1.000000      1.000000     -5.751698     -2.157522\n",
       "25%      250.750000     12.000000     -1.507034     -0.870725\n",
       "50%      500.500000     23.000000     -0.068255     -0.147794\n",
       "75%      750.250000     34.000000      1.442855      0.904278\n",
       "max     1000.000000     45.000000      5.889554      1.774446"
      ]
     },
     "execution_count": 12,
     "metadata": {},
     "output_type": "execute_result"
    }
   ],
   "source": [
    "student_response_2021.describe()"
   ]
  },
  {
   "cell_type": "code",
   "execution_count": 13,
   "id": "ec8b1194",
   "metadata": {},
   "outputs": [
    {
     "data": {
      "text/html": [
       "<div>\n",
       "<style scoped>\n",
       "    .dataframe tbody tr th:only-of-type {\n",
       "        vertical-align: middle;\n",
       "    }\n",
       "\n",
       "    .dataframe tbody tr th {\n",
       "        vertical-align: top;\n",
       "    }\n",
       "\n",
       "    .dataframe thead th {\n",
       "        text-align: right;\n",
       "    }\n",
       "</style>\n",
       "<table border=\"1\" class=\"dataframe\">\n",
       "  <thead>\n",
       "    <tr style=\"text-align: right;\">\n",
       "      <th></th>\n",
       "      <th>student_id</th>\n",
       "      <th>question_id</th>\n",
       "      <th>ability</th>\n",
       "      <th>difficulty</th>\n",
       "    </tr>\n",
       "  </thead>\n",
       "  <tbody>\n",
       "    <tr>\n",
       "      <th>count</th>\n",
       "      <td>50000.000000</td>\n",
       "      <td>50000.000000</td>\n",
       "      <td>49000.000000</td>\n",
       "      <td>49000.000000</td>\n",
       "    </tr>\n",
       "    <tr>\n",
       "      <th>mean</th>\n",
       "      <td>1500.500000</td>\n",
       "      <td>25.500000</td>\n",
       "      <td>0.330433</td>\n",
       "      <td>0.116709</td>\n",
       "    </tr>\n",
       "    <tr>\n",
       "      <th>std</th>\n",
       "      <td>288.677877</td>\n",
       "      <td>14.431014</td>\n",
       "      <td>2.448007</td>\n",
       "      <td>1.171172</td>\n",
       "    </tr>\n",
       "    <tr>\n",
       "      <th>min</th>\n",
       "      <td>1001.000000</td>\n",
       "      <td>1.000000</td>\n",
       "      <td>-5.653869</td>\n",
       "      <td>-1.955096</td>\n",
       "    </tr>\n",
       "    <tr>\n",
       "      <th>25%</th>\n",
       "      <td>1250.750000</td>\n",
       "      <td>13.000000</td>\n",
       "      <td>-1.047968</td>\n",
       "      <td>-0.728539</td>\n",
       "    </tr>\n",
       "    <tr>\n",
       "      <th>50%</th>\n",
       "      <td>1500.500000</td>\n",
       "      <td>25.500000</td>\n",
       "      <td>0.101803</td>\n",
       "      <td>-0.007172</td>\n",
       "    </tr>\n",
       "    <tr>\n",
       "      <th>75%</th>\n",
       "      <td>1750.250000</td>\n",
       "      <td>38.000000</td>\n",
       "      <td>1.704314</td>\n",
       "      <td>1.199790</td>\n",
       "    </tr>\n",
       "    <tr>\n",
       "      <th>max</th>\n",
       "      <td>2000.000000</td>\n",
       "      <td>50.000000</td>\n",
       "      <td>9.957734</td>\n",
       "      <td>2.194765</td>\n",
       "    </tr>\n",
       "  </tbody>\n",
       "</table>\n",
       "</div>"
      ],
      "text/plain": [
       "         student_id   question_id       ability    difficulty\n",
       "count  50000.000000  50000.000000  49000.000000  49000.000000\n",
       "mean    1500.500000     25.500000      0.330433      0.116709\n",
       "std      288.677877     14.431014      2.448007      1.171172\n",
       "min     1001.000000      1.000000     -5.653869     -1.955096\n",
       "25%     1250.750000     13.000000     -1.047968     -0.728539\n",
       "50%     1500.500000     25.500000      0.101803     -0.007172\n",
       "75%     1750.250000     38.000000      1.704314      1.199790\n",
       "max     2000.000000     50.000000      9.957734      2.194765"
      ]
     },
     "execution_count": 13,
     "metadata": {},
     "output_type": "execute_result"
    }
   ],
   "source": [
    "student_response_2022.describe()"
   ]
  },
  {
   "cell_type": "code",
   "execution_count": 14,
   "id": "f42e8a15",
   "metadata": {},
   "outputs": [],
   "source": [
    "null_rows_2021=student_response_2021[student_response_2021[\"ability\"].isna() | student_response_2021[\"difficulty\"].isna()]"
   ]
  },
  {
   "cell_type": "code",
   "execution_count": 15,
   "id": "714cd076",
   "metadata": {},
   "outputs": [
    {
     "data": {
      "text/html": [
       "<div>\n",
       "<style scoped>\n",
       "    .dataframe tbody tr th:only-of-type {\n",
       "        vertical-align: middle;\n",
       "    }\n",
       "\n",
       "    .dataframe tbody tr th {\n",
       "        vertical-align: top;\n",
       "    }\n",
       "\n",
       "    .dataframe thead th {\n",
       "        text-align: right;\n",
       "    }\n",
       "</style>\n",
       "<table border=\"1\" class=\"dataframe\">\n",
       "  <thead>\n",
       "    <tr style=\"text-align: right;\">\n",
       "      <th></th>\n",
       "      <th>student_id</th>\n",
       "      <th>question_id</th>\n",
       "      <th>ability</th>\n",
       "      <th>difficulty</th>\n",
       "      <th>answered_correctly</th>\n",
       "    </tr>\n",
       "  </thead>\n",
       "  <tbody>\n",
       "    <tr>\n",
       "      <th>86</th>\n",
       "      <td>835</td>\n",
       "      <td>42</td>\n",
       "      <td>-0.571899</td>\n",
       "      <td>NaN</td>\n",
       "      <td>False</td>\n",
       "    </tr>\n",
       "    <tr>\n",
       "      <th>94</th>\n",
       "      <td>741</td>\n",
       "      <td>21</td>\n",
       "      <td>NaN</td>\n",
       "      <td>-0.374363</td>\n",
       "      <td>True</td>\n",
       "    </tr>\n",
       "    <tr>\n",
       "      <th>182</th>\n",
       "      <td>584</td>\n",
       "      <td>38</td>\n",
       "      <td>NaN</td>\n",
       "      <td>1.404042</td>\n",
       "      <td>False</td>\n",
       "    </tr>\n",
       "    <tr>\n",
       "      <th>241</th>\n",
       "      <td>990</td>\n",
       "      <td>41</td>\n",
       "      <td>NaN</td>\n",
       "      <td>1.469058</td>\n",
       "      <td>False</td>\n",
       "    </tr>\n",
       "    <tr>\n",
       "      <th>247</th>\n",
       "      <td>911</td>\n",
       "      <td>20</td>\n",
       "      <td>-2.694178</td>\n",
       "      <td>NaN</td>\n",
       "      <td>False</td>\n",
       "    </tr>\n",
       "  </tbody>\n",
       "</table>\n",
       "</div>"
      ],
      "text/plain": [
       "     student_id  question_id   ability  difficulty  answered_correctly\n",
       "86          835           42 -0.571899         NaN               False\n",
       "94          741           21       NaN   -0.374363                True\n",
       "182         584           38       NaN    1.404042               False\n",
       "241         990           41       NaN    1.469058               False\n",
       "247         911           20 -2.694178         NaN               False"
      ]
     },
     "execution_count": 15,
     "metadata": {},
     "output_type": "execute_result"
    }
   ],
   "source": [
    "null_rows_2021.head()"
   ]
  },
  {
   "cell_type": "code",
   "execution_count": 16,
   "id": "063c51e7",
   "metadata": {},
   "outputs": [],
   "source": [
    "question_ids_with_nulls_2021 = null_rows_2021[\"question_id\"].unique()"
   ]
  },
  {
   "cell_type": "code",
   "execution_count": 17,
   "id": "8ade1dbf",
   "metadata": {},
   "outputs": [
    {
     "data": {
      "text/plain": [
       "array([42, 21, 38, 41, 20,  3, 44, 39,  9, 12, 27,  4, 26, 22, 34, 17,  1,\n",
       "       11,  7, 33, 31, 25, 24, 15, 40, 29,  2, 30, 35, 13, 45, 16,  5,  6,\n",
       "       14, 28, 36, 43, 10, 23, 19, 32,  8, 18, 37], dtype=int64)"
      ]
     },
     "execution_count": 17,
     "metadata": {},
     "output_type": "execute_result"
    }
   ],
   "source": [
    "question_ids_with_nulls_2021"
   ]
  },
  {
   "cell_type": "code",
   "execution_count": 18,
   "id": "7a4f3e0b",
   "metadata": {},
   "outputs": [],
   "source": [
    "question_ids_with_nulls_2021_frequency = null_rows_2021[\"question_id\"].value_counts()"
   ]
  },
  {
   "cell_type": "code",
   "execution_count": 19,
   "id": "ad6b7ac4",
   "metadata": {},
   "outputs": [
    {
     "data": {
      "text/plain": [
       "26    56\n",
       "38    50\n",
       "25    49\n",
       "40    48\n",
       "43    47\n",
       "41    46\n",
       "10    46\n",
       "2     46\n",
       "4     46\n",
       "42    45\n",
       "44    45\n",
       "7     44\n",
       "8     44\n",
       "24    44\n",
       "22    44\n",
       "19    43\n",
       "5     42\n",
       "13    41\n",
       "27    41\n",
       "11    40\n",
       "20    40\n",
       "17    39\n",
       "12    39\n",
       "9     39\n",
       "39    39\n",
       "18    38\n",
       "21    38\n",
       "30    38\n",
       "36    37\n",
       "23    36\n",
       "3     35\n",
       "6     35\n",
       "34    35\n",
       "45    35\n",
       "15    35\n",
       "33    35\n",
       "1     34\n",
       "14    33\n",
       "29    33\n",
       "16    31\n",
       "28    31\n",
       "35    31\n",
       "31    31\n",
       "37    29\n",
       "32    26\n",
       "Name: question_id, dtype: int64"
      ]
     },
     "execution_count": 19,
     "metadata": {},
     "output_type": "execute_result"
    }
   ],
   "source": [
    "question_ids_with_nulls_2021_frequency"
   ]
  },
  {
   "cell_type": "code",
   "execution_count": 27,
   "id": "2e26c4b3",
   "metadata": {},
   "outputs": [
    {
     "data": {
      "image/png": "[encoded data removed]",
      "text/plain": [
       "<Figure size 432x288 with 1 Axes>"
      ]
     },
     "metadata": {
      "needs_background": "light"
     },
     "output_type": "display_data"
    }
   ],
   "source": [
    "# Ability distribution 2021\n",
    "plt.hist(student_response_2021['ability'], bins=30, color='blue', alpha=0.7, label='Ability')\n",
    "plt.xlabel('Ability')\n",
    "plt.ylabel('Frequency')\n",
    "plt.title('Distribution of Ability')\n",
    "plt.legend()\n",
    "plt.show()"
   ]
  },
  {
   "cell_type": "code",
   "execution_count": 34,
   "id": "d79cd0c4",
   "metadata": {},
   "outputs": [
    {
     "data": {
      "text/plain": [
       "<matplotlib.legend.Legend at 0x24b0621b2b0>"
      ]
     },
     "execution_count": 34,
     "metadata": {},
     "output_type": "execute_result"
    },
    {
     "data": {
      "image/png": "[encoded data removed]",
      "text/plain": [
       "<Figure size 432x288 with 1 Axes>"
      ]
     },
     "metadata": {
      "needs_background": "light"
     },
     "output_type": "display_data"
    }
   ],
   "source": [
    "# Difficulty distribution 2021\n",
    "plt.hist(student_response_2021['difficulty'], bins=30, color='orange', alpha=0.7, label='Difficulty')\n",
    "plt.xlabel('Difficulty')\n",
    "plt.ylabel('Frequency')\n",
    "plt.title('Distribution of Difficulty')\n",
    "plt.legend()"
   ]
  },
  {
   "cell_type": "code",
   "execution_count": 35,
   "id": "02a0fe0c",
   "metadata": {},
   "outputs": [
    {
     "data": {
      "image/png": "[encoded data removed]",
      "text/plain": [
       "<Figure size 432x288 with 1 Axes>"
      ]
     },
     "metadata": {
      "needs_background": "light"
     },
     "output_type": "display_data"
    }
   ],
   "source": [
    "sns.boxplot(data=student_response_2021[['ability', 'difficulty']])\n",
    "plt.title('Boxplot of Ability and Difficulty')\n",
    "plt.show()\n"
   ]
  },
  {
   "cell_type": "code",
   "execution_count": 36,
   "id": "dbfa60af",
   "metadata": {},
   "outputs": [
    {
     "data": {
      "image/png": "[encoded data removed]",
      "text/plain": [
       "<Figure size 432x288 with 1 Axes>"
      ]
     },
     "metadata": {
      "needs_background": "light"
     },
     "output_type": "display_data"
    }
   ],
   "source": [
    "plt.hist(student_response_2021['ability'], bins=30, alpha=0.5, label='Ability', color='blue')\n",
    "plt.hist(student_response_2021['difficulty'], bins=30, alpha=0.5, label='Difficulty', color='orange')\n",
    "plt.xlabel('Value')\n",
    "plt.ylabel('Frequency')\n",
    "plt.title('Ability vs. Difficulty Distribution')\n",
    "plt.legend()\n",
    "plt.show()\n"
   ]
  },
  {
   "cell_type": "code",
   "execution_count": 37,
   "id": "a2399a0e",
   "metadata": {},
   "outputs": [
    {
     "data": {
      "image/png": "[encoded data removed]",
      "text/plain": [
       "<Figure size 432x288 with 1 Axes>"
      ]
     },
     "metadata": {
      "needs_background": "light"
     },
     "output_type": "display_data"
    }
   ],
   "source": [
    "# Ability distribution 2022\n",
    "plt.hist(student_response_2022['ability'], bins=30, color='blue', alpha=0.7, label='Ability')\n",
    "plt.xlabel('Ability')\n",
    "plt.ylabel('Frequency')\n",
    "plt.title('Distribution of Ability')\n",
    "plt.legend()\n",
    "plt.show()"
   ]
  },
  {
   "cell_type": "code",
   "execution_count": 38,
   "id": "c03f3605",
   "metadata": {},
   "outputs": [
    {
     "data": {
      "text/plain": [
       "<matplotlib.legend.Legend at 0x24b062dc130>"
      ]
     },
     "execution_count": 38,
     "metadata": {},
     "output_type": "execute_result"
    },
    {
     "data": {
      "image/png": "[encoded data removed]",
      "text/plain": [
       "<Figure size 432x288 with 1 Axes>"
      ]
     },
     "metadata": {
      "needs_background": "light"
     },
     "output_type": "display_data"
    }
   ],
   "source": [
    "# Difficulty distribution 2022\n",
    "plt.hist(student_response_2022['difficulty'], bins=30, color='orange', alpha=0.7, label='Difficulty')\n",
    "plt.xlabel('Difficulty')\n",
    "plt.ylabel('Frequency')\n",
    "plt.title('Distribution of Difficulty')\n",
    "plt.legend()"
   ]
  },
  {
   "cell_type": "code",
   "execution_count": 39,
   "id": "b0f04066",
   "metadata": {},
   "outputs": [
    {
     "data": {
      "image/png": "[encoded data removed]",
      "text/plain": [
       "<Figure size 432x288 with 1 Axes>"
      ]
     },
     "metadata": {
      "needs_background": "light"
     },
     "output_type": "display_data"
    }
   ],
   "source": [
    "sns.boxplot(data=student_response_2022[['ability', 'difficulty']])\n",
    "plt.title('Boxplot of Ability and Difficulty')\n",
    "plt.show()"
   ]
  },
  {
   "cell_type": "code",
   "execution_count": 40,
   "id": "ca120490",
   "metadata": {},
   "outputs": [
    {
     "data": {
      "image/png": "[encoded data removed]",
      "text/plain": [
       "<Figure size 432x288 with 1 Axes>"
      ]
     },
     "metadata": {
      "needs_background": "light"
     },
     "output_type": "display_data"
    }
   ],
   "source": [
    "plt.hist(student_response_2022['ability'], bins=30, alpha=0.5, label='Ability', color='blue')\n",
    "plt.hist(student_response_2022['difficulty'], bins=30, alpha=0.5, label='Difficulty', color='orange')\n",
    "plt.xlabel('Value')\n",
    "plt.ylabel('Frequency')\n",
    "plt.title('Ability vs. Difficulty Distribution')\n",
    "plt.legend()\n",
    "plt.show()"
   ]
  },
  {
   "cell_type": "code",
   "execution_count": 43,
   "id": "b6884419",
   "metadata": {},
   "outputs": [],
   "source": [
    "student_response=pd.concat([student_response_2021,student_response_2022])"
   ]
  },
  {
   "cell_type": "code",
   "execution_count": 45,
   "id": "c07bbe6b",
   "metadata": {},
   "outputs": [
    {
     "data": {
      "text/html": [
       "<div>\n",
       "<style scoped>\n",
       "    .dataframe tbody tr th:only-of-type {\n",
       "        vertical-align: middle;\n",
       "    }\n",
       "\n",
       "    .dataframe tbody tr th {\n",
       "        vertical-align: top;\n",
       "    }\n",
       "\n",
       "    .dataframe thead th {\n",
       "        text-align: right;\n",
       "    }\n",
       "</style>\n",
       "<table border=\"1\" class=\"dataframe\">\n",
       "  <thead>\n",
       "    <tr style=\"text-align: right;\">\n",
       "      <th></th>\n",
       "      <th>ability</th>\n",
       "      <th>difficulty</th>\n",
       "    </tr>\n",
       "  </thead>\n",
       "  <tbody>\n",
       "    <tr>\n",
       "      <th>count</th>\n",
       "      <td>93100.000000</td>\n",
       "      <td>93100.000000</td>\n",
       "    </tr>\n",
       "    <tr>\n",
       "      <th>mean</th>\n",
       "      <td>0.154100</td>\n",
       "      <td>0.034364</td>\n",
       "    </tr>\n",
       "    <tr>\n",
       "      <th>std</th>\n",
       "      <td>2.326674</td>\n",
       "      <td>1.120549</td>\n",
       "    </tr>\n",
       "    <tr>\n",
       "      <th>min</th>\n",
       "      <td>-5.751698</td>\n",
       "      <td>-2.157522</td>\n",
       "    </tr>\n",
       "    <tr>\n",
       "      <th>25%</th>\n",
       "      <td>-1.277524</td>\n",
       "      <td>-0.870725</td>\n",
       "    </tr>\n",
       "    <tr>\n",
       "      <th>50%</th>\n",
       "      <td>0.031228</td>\n",
       "      <td>-0.147794</td>\n",
       "    </tr>\n",
       "    <tr>\n",
       "      <th>75%</th>\n",
       "      <td>1.559546</td>\n",
       "      <td>1.069916</td>\n",
       "    </tr>\n",
       "    <tr>\n",
       "      <th>max</th>\n",
       "      <td>9.957734</td>\n",
       "      <td>2.194765</td>\n",
       "    </tr>\n",
       "  </tbody>\n",
       "</table>\n",
       "</div>"
      ],
      "text/plain": [
       "            ability    difficulty\n",
       "count  93100.000000  93100.000000\n",
       "mean       0.154100      0.034364\n",
       "std        2.326674      1.120549\n",
       "min       -5.751698     -2.157522\n",
       "25%       -1.277524     -0.870725\n",
       "50%        0.031228     -0.147794\n",
       "75%        1.559546      1.069916\n",
       "max        9.957734      2.194765"
      ]
     },
     "execution_count": 45,
     "metadata": {},
     "output_type": "execute_result"
    }
   ],
   "source": [
    "student_response[['ability','difficulty']].describe()"
   ]
  },
  {
   "cell_type": "code",
   "execution_count": 46,
   "id": "9f668415",
   "metadata": {},
   "outputs": [
    {
     "data": {
      "text/html": [
       "<div>\n",
       "<style scoped>\n",
       "    .dataframe tbody tr th:only-of-type {\n",
       "        vertical-align: middle;\n",
       "    }\n",
       "\n",
       "    .dataframe tbody tr th {\n",
       "        vertical-align: top;\n",
       "    }\n",
       "\n",
       "    .dataframe thead th {\n",
       "        text-align: right;\n",
       "    }\n",
       "</style>\n",
       "<table border=\"1\" class=\"dataframe\">\n",
       "  <thead>\n",
       "    <tr style=\"text-align: right;\">\n",
       "      <th></th>\n",
       "      <th>ability</th>\n",
       "      <th>difficulty</th>\n",
       "    </tr>\n",
       "  </thead>\n",
       "  <tbody>\n",
       "    <tr>\n",
       "      <th>count</th>\n",
       "      <td>44100.000000</td>\n",
       "      <td>44100.000000</td>\n",
       "    </tr>\n",
       "    <tr>\n",
       "      <th>mean</th>\n",
       "      <td>-0.041824</td>\n",
       "      <td>-0.057131</td>\n",
       "    </tr>\n",
       "    <tr>\n",
       "      <th>std</th>\n",
       "      <td>2.167235</td>\n",
       "      <td>1.053968</td>\n",
       "    </tr>\n",
       "    <tr>\n",
       "      <th>min</th>\n",
       "      <td>-5.751698</td>\n",
       "      <td>-2.157522</td>\n",
       "    </tr>\n",
       "    <tr>\n",
       "      <th>25%</th>\n",
       "      <td>-1.507034</td>\n",
       "      <td>-0.870725</td>\n",
       "    </tr>\n",
       "    <tr>\n",
       "      <th>50%</th>\n",
       "      <td>-0.068255</td>\n",
       "      <td>-0.147794</td>\n",
       "    </tr>\n",
       "    <tr>\n",
       "      <th>75%</th>\n",
       "      <td>1.442855</td>\n",
       "      <td>0.904278</td>\n",
       "    </tr>\n",
       "    <tr>\n",
       "      <th>max</th>\n",
       "      <td>5.889554</td>\n",
       "      <td>1.774446</td>\n",
       "    </tr>\n",
       "  </tbody>\n",
       "</table>\n",
       "</div>"
      ],
      "text/plain": [
       "            ability    difficulty\n",
       "count  44100.000000  44100.000000\n",
       "mean      -0.041824     -0.057131\n",
       "std        2.167235      1.053968\n",
       "min       -5.751698     -2.157522\n",
       "25%       -1.507034     -0.870725\n",
       "50%       -0.068255     -0.147794\n",
       "75%        1.442855      0.904278\n",
       "max        5.889554      1.774446"
      ]
     },
     "execution_count": 46,
     "metadata": {},
     "output_type": "execute_result"
    }
   ],
   "source": [
    "student_response_2021[['ability','difficulty']].describe()"
   ]
  },
  {
   "cell_type": "code",
   "execution_count": 47,
   "id": "f3ed8a52",
   "metadata": {},
   "outputs": [
    {
     "data": {
      "text/html": [
       "<div>\n",
       "<style scoped>\n",
       "    .dataframe tbody tr th:only-of-type {\n",
       "        vertical-align: middle;\n",
       "    }\n",
       "\n",
       "    .dataframe tbody tr th {\n",
       "        vertical-align: top;\n",
       "    }\n",
       "\n",
       "    .dataframe thead th {\n",
       "        text-align: right;\n",
       "    }\n",
       "</style>\n",
       "<table border=\"1\" class=\"dataframe\">\n",
       "  <thead>\n",
       "    <tr style=\"text-align: right;\">\n",
       "      <th></th>\n",
       "      <th>ability</th>\n",
       "      <th>difficulty</th>\n",
       "    </tr>\n",
       "  </thead>\n",
       "  <tbody>\n",
       "    <tr>\n",
       "      <th>count</th>\n",
       "      <td>49000.000000</td>\n",
       "      <td>49000.000000</td>\n",
       "    </tr>\n",
       "    <tr>\n",
       "      <th>mean</th>\n",
       "      <td>0.330433</td>\n",
       "      <td>0.116709</td>\n",
       "    </tr>\n",
       "    <tr>\n",
       "      <th>std</th>\n",
       "      <td>2.448007</td>\n",
       "      <td>1.171172</td>\n",
       "    </tr>\n",
       "    <tr>\n",
       "      <th>min</th>\n",
       "      <td>-5.653869</td>\n",
       "      <td>-1.955096</td>\n",
       "    </tr>\n",
       "    <tr>\n",
       "      <th>25%</th>\n",
       "      <td>-1.047968</td>\n",
       "      <td>-0.728539</td>\n",
       "    </tr>\n",
       "    <tr>\n",
       "      <th>50%</th>\n",
       "      <td>0.101803</td>\n",
       "      <td>-0.007172</td>\n",
       "    </tr>\n",
       "    <tr>\n",
       "      <th>75%</th>\n",
       "      <td>1.704314</td>\n",
       "      <td>1.199790</td>\n",
       "    </tr>\n",
       "    <tr>\n",
       "      <th>max</th>\n",
       "      <td>9.957734</td>\n",
       "      <td>2.194765</td>\n",
       "    </tr>\n",
       "  </tbody>\n",
       "</table>\n",
       "</div>"
      ],
      "text/plain": [
       "            ability    difficulty\n",
       "count  49000.000000  49000.000000\n",
       "mean       0.330433      0.116709\n",
       "std        2.448007      1.171172\n",
       "min       -5.653869     -1.955096\n",
       "25%       -1.047968     -0.728539\n",
       "50%        0.101803     -0.007172\n",
       "75%        1.704314      1.199790\n",
       "max        9.957734      2.194765"
      ]
     },
     "execution_count": 47,
     "metadata": {},
     "output_type": "execute_result"
    }
   ],
   "source": [
    "student_response_2022[['ability','difficulty']].describe()"
   ]
  },
  {
   "cell_type": "code",
   "execution_count": 50,
   "id": "a26eb4cb",
   "metadata": {},
   "outputs": [
    {
     "name": "stdout",
     "output_type": "stream",
     "text": [
      "student_id            0.0\n",
      "question_id           0.0\n",
      "ability               0.0\n",
      "difficulty            0.0\n",
      "answered_correctly    0.0\n",
      "dtype: float64\n",
      "student_id            0.0\n",
      "question_id           0.0\n",
      "ability               0.0\n",
      "difficulty            0.0\n",
      "answered_correctly    0.0\n",
      "dtype: float64\n"
     ]
    }
   ],
   "source": [
    "missing_2021 = student_response_2021.isnull().sum() / len(student_response_2021) * 100\n",
    "missing_2022 = student_response_2022.isnull().sum() / len(student_response_2022) * 100\n",
    "print(missing_2021)\n",
    "print(missing_2022)\n"
   ]
  },
  {
   "cell_type": "code",
   "execution_count": 49,
   "id": "0eccf04e",
   "metadata": {},
   "outputs": [],
   "source": [
    "# Group by 'student_id' and fill nulls\n",
    "student_response_2021['ability'] = student_response_2021.groupby('student_id')['ability'].transform(lambda x: x.fillna(x.mean()))\n",
    "student_response_2021['difficulty'] = student_response_2021.groupby('question_id')['difficulty'].transform(lambda x: x.fillna(x.mean()))\n",
    "\n",
    "student_response_2022['ability'] = student_response_2022.groupby('student_id')['ability'].transform(lambda x: x.fillna(x.mean()))\n",
    "student_response_2022['difficulty'] = student_response_2022.groupby('question_id')['difficulty'].transform(lambda x: x.fillna(x.mean()))\n"
   ]
  },
  {
   "cell_type": "code",
   "execution_count": 51,
   "id": "ad439513",
   "metadata": {},
   "outputs": [],
   "source": [
    "student_response_clean=pd.concat([student_response_2021,student_response_2022])"
   ]
  },
  {
   "cell_type": "code",
   "execution_count": 53,
   "id": "810d2a2b",
   "metadata": {},
   "outputs": [
    {
     "data": {
      "text/html": [
       "<div>\n",
       "<style scoped>\n",
       "    .dataframe tbody tr th:only-of-type {\n",
       "        vertical-align: middle;\n",
       "    }\n",
       "\n",
       "    .dataframe tbody tr th {\n",
       "        vertical-align: top;\n",
       "    }\n",
       "\n",
       "    .dataframe thead th {\n",
       "        text-align: right;\n",
       "    }\n",
       "</style>\n",
       "<table border=\"1\" class=\"dataframe\">\n",
       "  <thead>\n",
       "    <tr style=\"text-align: right;\">\n",
       "      <th></th>\n",
       "      <th>student_id</th>\n",
       "      <th>question_id</th>\n",
       "      <th>ability</th>\n",
       "      <th>difficulty</th>\n",
       "      <th>answered_correctly</th>\n",
       "    </tr>\n",
       "  </thead>\n",
       "  <tbody>\n",
       "    <tr>\n",
       "      <th>0</th>\n",
       "      <td>967</td>\n",
       "      <td>40</td>\n",
       "      <td>-0.320326</td>\n",
       "      <td>1.572793</td>\n",
       "      <td>False</td>\n",
       "    </tr>\n",
       "    <tr>\n",
       "      <th>1</th>\n",
       "      <td>135</td>\n",
       "      <td>2</td>\n",
       "      <td>-2.897524</td>\n",
       "      <td>-1.920777</td>\n",
       "      <td>False</td>\n",
       "    </tr>\n",
       "    <tr>\n",
       "      <th>2</th>\n",
       "      <td>553</td>\n",
       "      <td>18</td>\n",
       "      <td>-1.207800</td>\n",
       "      <td>-0.482901</td>\n",
       "      <td>False</td>\n",
       "    </tr>\n",
       "    <tr>\n",
       "      <th>3</th>\n",
       "      <td>564</td>\n",
       "      <td>29</td>\n",
       "      <td>-2.012802</td>\n",
       "      <td>0.360224</td>\n",
       "      <td>False</td>\n",
       "    </tr>\n",
       "    <tr>\n",
       "      <th>4</th>\n",
       "      <td>449</td>\n",
       "      <td>42</td>\n",
       "      <td>0.332158</td>\n",
       "      <td>1.211066</td>\n",
       "      <td>False</td>\n",
       "    </tr>\n",
       "  </tbody>\n",
       "</table>\n",
       "</div>"
      ],
      "text/plain": [
       "   student_id  question_id   ability  difficulty  answered_correctly\n",
       "0         967           40 -0.320326    1.572793               False\n",
       "1         135            2 -2.897524   -1.920777               False\n",
       "2         553           18 -1.207800   -0.482901               False\n",
       "3         564           29 -2.012802    0.360224               False\n",
       "4         449           42  0.332158    1.211066               False"
      ]
     },
     "execution_count": 53,
     "metadata": {},
     "output_type": "execute_result"
    }
   ],
   "source": [
    "student_response_clean.head()"
   ]
  },
  {
   "cell_type": "code",
   "execution_count": 55,
   "id": "7e70c3cb",
   "metadata": {},
   "outputs": [],
   "source": [
    "from sklearn.model_selection import train_test_split\n",
    "\n",
    "X = student_response_clean[['ability', 'difficulty']]\n",
    "y = student_response_clean['answered_correctly'].astype(int)\n",
    "X_train, X_test, y_train, y_test = train_test_split(X, y, test_size=0.2, random_state=42)\n"
   ]
  },
  {
   "cell_type": "code",
   "execution_count": 56,
   "id": "e1c0a718",
   "metadata": {},
   "outputs": [
    {
     "name": "stdout",
     "output_type": "stream",
     "text": [
      "Accuracy: 0.9993157894736842\n",
      "              precision    recall  f1-score   support\n",
      "\n",
      "           0       1.00      1.00      1.00      9221\n",
      "           1       1.00      1.00      1.00      9779\n",
      "\n",
      "    accuracy                           1.00     19000\n",
      "   macro avg       1.00      1.00      1.00     19000\n",
      "weighted avg       1.00      1.00      1.00     19000\n",
      "\n"
     ]
    }
   ],
   "source": [
    "from sklearn.ensemble import RandomForestClassifier\n",
    "from sklearn.metrics import accuracy_score, classification_report\n",
    "\n",
    "\n",
    "model = RandomForestClassifier(random_state=42)\n",
    "model.fit(X_train, y_train)\n",
    "\n",
    "\n",
    "y_pred = model.predict(X_test)\n",
    "\n",
    "\n",
    "print(\"Accuracy:\", accuracy_score(y_test, y_pred))\n",
    "print(classification_report(y_test, y_pred))\n"
   ]
  },
  {
   "cell_type": "code",
   "execution_count": 61,
   "id": "79281b2d",
   "metadata": {},
   "outputs": [
    {
     "name": "stderr",
     "output_type": "stream",
     "text": [
      "C:\\Users\\adand\\AppData\\Local\\Temp/ipykernel_20384/1298327054.py:2: FutureWarning: Indexing with multiple keys (implicitly converted to a tuple of keys) will be deprecated, use a list instead.\n",
      "  student_trend = student_response_clean.groupby('student_id')['ability', 'answered_correctly'].mean()\n"
     ]
    },
    {
     "data": {
      "text/html": [
       "<div>\n",
       "<style scoped>\n",
       "    .dataframe tbody tr th:only-of-type {\n",
       "        vertical-align: middle;\n",
       "    }\n",
       "\n",
       "    .dataframe tbody tr th {\n",
       "        vertical-align: top;\n",
       "    }\n",
       "\n",
       "    .dataframe thead th {\n",
       "        text-align: right;\n",
       "    }\n",
       "</style>\n",
       "<table border=\"1\" class=\"dataframe\">\n",
       "  <thead>\n",
       "    <tr style=\"text-align: right;\">\n",
       "      <th></th>\n",
       "      <th>ability</th>\n",
       "      <th>answered_correctly</th>\n",
       "    </tr>\n",
       "  </thead>\n",
       "  <tbody>\n",
       "    <tr>\n",
       "      <th>count</th>\n",
       "      <td>2000.000000</td>\n",
       "      <td>2000.000000</td>\n",
       "    </tr>\n",
       "    <tr>\n",
       "      <th>mean</th>\n",
       "      <td>0.143890</td>\n",
       "      <td>0.512003</td>\n",
       "    </tr>\n",
       "    <tr>\n",
       "      <th>std</th>\n",
       "      <td>2.318299</td>\n",
       "      <td>0.373649</td>\n",
       "    </tr>\n",
       "    <tr>\n",
       "      <th>min</th>\n",
       "      <td>-5.751698</td>\n",
       "      <td>0.000000</td>\n",
       "    </tr>\n",
       "    <tr>\n",
       "      <th>25%</th>\n",
       "      <td>-1.282926</td>\n",
       "      <td>0.133333</td>\n",
       "    </tr>\n",
       "    <tr>\n",
       "      <th>50%</th>\n",
       "      <td>0.026996</td>\n",
       "      <td>0.520000</td>\n",
       "    </tr>\n",
       "    <tr>\n",
       "      <th>75%</th>\n",
       "      <td>1.542657</td>\n",
       "      <td>0.891667</td>\n",
       "    </tr>\n",
       "    <tr>\n",
       "      <th>max</th>\n",
       "      <td>9.957734</td>\n",
       "      <td>1.000000</td>\n",
       "    </tr>\n",
       "  </tbody>\n",
       "</table>\n",
       "</div>"
      ],
      "text/plain": [
       "           ability  answered_correctly\n",
       "count  2000.000000         2000.000000\n",
       "mean      0.143890            0.512003\n",
       "std       2.318299            0.373649\n",
       "min      -5.751698            0.000000\n",
       "25%      -1.282926            0.133333\n",
       "50%       0.026996            0.520000\n",
       "75%       1.542657            0.891667\n",
       "max       9.957734            1.000000"
      ]
     },
     "execution_count": 61,
     "metadata": {},
     "output_type": "execute_result"
    }
   ],
   "source": [
    "\n",
    "student_trend = student_response_clean.groupby('student_id')['ability', 'answered_correctly'].mean()\n",
    "k=student_trend.describe()\n",
    "summary_student_treand=pd.DataFrame(k)\n",
    "\n",
    "summary_student_treand"
   ]
  },
  {
   "cell_type": "code",
   "execution_count": 58,
   "id": "8ed62d03",
   "metadata": {},
   "outputs": [
    {
     "data": {
      "image/png": "[encoded data removed]",
      "text/plain": [
       "<Figure size 720x432 with 1 Axes>"
      ]
     },
     "metadata": {
      "needs_background": "light"
     },
     "output_type": "display_data"
    }
   ],
   "source": [
    "\n",
    "student_trend = student_response_clean.groupby('student_id')['ability'].mean()\n",
    "\n",
    "# Create a histogram to show the distribution of ability scores\n",
    "plt.figure(figsize=(10, 6))\n",
    "plt.hist(student_trend, bins=30, alpha=0.7, color='skyblue', edgecolor='black')\n",
    "plt.title('Distribution of Student Ability')\n",
    "plt.xlabel('Ability')\n",
    "plt.ylabel('Number of Students')\n",
    "plt.show()"
   ]
  },
  {
   "cell_type": "code",
   "execution_count": 62,
   "id": "9d8247bd",
   "metadata": {},
   "outputs": [
    {
     "data": {
      "image/png": "[encoded data removed]",
      "text/plain": [
       "<Figure size 576x360 with 1 Axes>"
      ]
     },
     "metadata": {
      "needs_background": "light"
     },
     "output_type": "display_data"
    }
   ],
   "source": [
    "# Plot a boxplot\n",
    "plt.figure(figsize=(8, 5))\n",
    "sns.boxplot(x=student_response_clean['ability'], color='green')\n",
    "plt.title('Boxplot of Student Abilities')\n",
    "plt.xlabel('Ability')\n",
    "plt.grid(True)\n",
    "plt.show()"
   ]
  },
  {
   "cell_type": "code",
   "execution_count": null,
   "id": "6256daad",
   "metadata": {},
   "outputs": [],
   "source": [
    "#outliers in both side from the Box plot"
   ]
  },
  {
   "cell_type": "code",
   "execution_count": 64,
   "id": "0eedd486",
   "metadata": {},
   "outputs": [
    {
     "name": "stdout",
     "output_type": "stream",
     "text": [
      "answered_correctly\n",
      "False    0.473874\n",
      "True    -0.382960\n",
      "Name: difficulty, dtype: float64\n"
     ]
    }
   ],
   "source": [
    "# Difficulty by answer correctness\n",
    "difficulty_trend = student_response_clean.groupby('answered_correctly')['difficulty'].mean()\n",
    "print(difficulty_trend)\n"
   ]
  },
  {
   "cell_type": "code",
   "execution_count": 75,
   "id": "b7ca668b",
   "metadata": {},
   "outputs": [
    {
     "data": {
      "image/png": "[encoded data removed]",
      "text/plain": [
       "<Figure size 432x288 with 1 Axes>"
      ]
     },
     "metadata": {
      "needs_background": "light"
     },
     "output_type": "display_data"
    }
   ],
   "source": [
    "\n",
    "\n",
    "sns.kdeplot(student_response_clean[student_response_clean['answered_correctly']]['difficulty'], label='Correct', shade=True)\n",
    "sns.kdeplot(student_response_clean[student_response_clean['answered_correctly']]['difficulty'], label='Incorrect', shade=True)\n",
    "plt.legend()\n",
    "plt.show()\n"
   ]
  },
  {
   "cell_type": "code",
   "execution_count": 79,
   "id": "43e9e54f",
   "metadata": {},
   "outputs": [
    {
     "data": {
      "text/html": [
       "<div>\n",
       "<style scoped>\n",
       "    .dataframe tbody tr th:only-of-type {\n",
       "        vertical-align: middle;\n",
       "    }\n",
       "\n",
       "    .dataframe tbody tr th {\n",
       "        vertical-align: top;\n",
       "    }\n",
       "\n",
       "    .dataframe thead th {\n",
       "        text-align: right;\n",
       "    }\n",
       "</style>\n",
       "<table border=\"1\" class=\"dataframe\">\n",
       "  <thead>\n",
       "    <tr style=\"text-align: right;\">\n",
       "      <th></th>\n",
       "      <th>student_id</th>\n",
       "      <th>question_id</th>\n",
       "      <th>ability</th>\n",
       "      <th>difficulty</th>\n",
       "      <th>answered_correctly</th>\n",
       "    </tr>\n",
       "  </thead>\n",
       "  <tbody>\n",
       "    <tr>\n",
       "      <th>0</th>\n",
       "      <td>967</td>\n",
       "      <td>40</td>\n",
       "      <td>-0.320326</td>\n",
       "      <td>1.572793</td>\n",
       "      <td>False</td>\n",
       "    </tr>\n",
       "    <tr>\n",
       "      <th>1</th>\n",
       "      <td>135</td>\n",
       "      <td>2</td>\n",
       "      <td>-2.897524</td>\n",
       "      <td>-1.920777</td>\n",
       "      <td>False</td>\n",
       "    </tr>\n",
       "    <tr>\n",
       "      <th>2</th>\n",
       "      <td>553</td>\n",
       "      <td>18</td>\n",
       "      <td>-1.207800</td>\n",
       "      <td>-0.482901</td>\n",
       "      <td>False</td>\n",
       "    </tr>\n",
       "    <tr>\n",
       "      <th>3</th>\n",
       "      <td>564</td>\n",
       "      <td>29</td>\n",
       "      <td>-2.012802</td>\n",
       "      <td>0.360224</td>\n",
       "      <td>False</td>\n",
       "    </tr>\n",
       "    <tr>\n",
       "      <th>4</th>\n",
       "      <td>449</td>\n",
       "      <td>42</td>\n",
       "      <td>0.332158</td>\n",
       "      <td>1.211066</td>\n",
       "      <td>False</td>\n",
       "    </tr>\n",
       "    <tr>\n",
       "      <th>5</th>\n",
       "      <td>300</td>\n",
       "      <td>44</td>\n",
       "      <td>0.288807</td>\n",
       "      <td>1.545650</td>\n",
       "      <td>False</td>\n",
       "    </tr>\n",
       "    <tr>\n",
       "      <th>6</th>\n",
       "      <td>34</td>\n",
       "      <td>42</td>\n",
       "      <td>-0.756414</td>\n",
       "      <td>1.211066</td>\n",
       "      <td>False</td>\n",
       "    </tr>\n",
       "    <tr>\n",
       "      <th>7</th>\n",
       "      <td>150</td>\n",
       "      <td>12</td>\n",
       "      <td>1.471716</td>\n",
       "      <td>-1.353509</td>\n",
       "      <td>True</td>\n",
       "    </tr>\n",
       "    <tr>\n",
       "      <th>8</th>\n",
       "      <td>291</td>\n",
       "      <td>37</td>\n",
       "      <td>-1.702323</td>\n",
       "      <td>0.745745</td>\n",
       "      <td>False</td>\n",
       "    </tr>\n",
       "    <tr>\n",
       "      <th>9</th>\n",
       "      <td>950</td>\n",
       "      <td>40</td>\n",
       "      <td>-1.164242</td>\n",
       "      <td>1.572793</td>\n",
       "      <td>False</td>\n",
       "    </tr>\n",
       "  </tbody>\n",
       "</table>\n",
       "</div>"
      ],
      "text/plain": [
       "   student_id  question_id   ability  difficulty  answered_correctly\n",
       "0         967           40 -0.320326    1.572793               False\n",
       "1         135            2 -2.897524   -1.920777               False\n",
       "2         553           18 -1.207800   -0.482901               False\n",
       "3         564           29 -2.012802    0.360224               False\n",
       "4         449           42  0.332158    1.211066               False\n",
       "5         300           44  0.288807    1.545650               False\n",
       "6          34           42 -0.756414    1.211066               False\n",
       "7         150           12  1.471716   -1.353509                True\n",
       "8         291           37 -1.702323    0.745745               False\n",
       "9         950           40 -1.164242    1.572793               False"
      ]
     },
     "execution_count": 79,
     "metadata": {},
     "output_type": "execute_result"
    }
   ],
   "source": [
    "student_response_clean.head(10)"
   ]
  },
  {
   "cell_type": "code",
   "execution_count": 72,
   "id": "cbbff3e4",
   "metadata": {},
   "outputs": [],
   "source": [
    "student_response_clean = student_response_clean.reset_index(drop=True)"
   ]
  },
  {
   "cell_type": "code",
   "execution_count": 74,
   "id": "979816c7",
   "metadata": {},
   "outputs": [
    {
     "data": {
      "text/plain": [
       "(95000, 5)"
      ]
     },
     "execution_count": 74,
     "metadata": {},
     "output_type": "execute_result"
    }
   ],
   "source": [
    "student_response_clean.shape"
   ]
  },
  {
   "cell_type": "code",
   "execution_count": 80,
   "id": "8de252dd",
   "metadata": {},
   "outputs": [
    {
     "data": {
      "image/png": "[encoded data removed]",
      "text/plain": [
       "<Figure size 720x432 with 1 Axes>"
      ]
     },
     "metadata": {
      "needs_background": "light"
     },
     "output_type": "display_data"
    }
   ],
   "source": [
    "# Boxplot to compare difficulty levels for correct and incorrect answers\n",
    "plt.figure(figsize=(10, 6))\n",
    "sns.boxplot(x='answered_correctly', y='difficulty', data=student_response_clean, palette=\"Set2\")\n",
    "plt.title('Difficulty of Questions: Correct vs Incorrect Answers')\n",
    "plt.xlabel('Answered Correctly')\n",
    "plt.ylabel('Difficulty')\n",
    "plt.show()\n"
   ]
  },
  {
   "cell_type": "code",
   "execution_count": 81,
   "id": "7c5cdd4f",
   "metadata": {},
   "outputs": [
    {
     "data": {
      "image/png": "[encoded data removed]",
      "text/plain": [
       "<Figure size 720x432 with 1 Axes>"
      ]
     },
     "metadata": {
      "needs_background": "light"
     },
     "output_type": "display_data"
    }
   ],
   "source": [
    "\n",
    "\n",
    "# Kernel Density Estimation (KDE) plot to show the distribution of difficulty for correct vs incorrect answers\n",
    "plt.figure(figsize=(10, 6))\n",
    "sns.kdeplot(student_response_clean[student_response_clean['answered_correctly'] == 1]['difficulty'], \n",
    "            label='Answered Correctly', shade=True, color='g')\n",
    "sns.kdeplot(student_response_clean[student_response_clean['answered_correctly'] == 0]['difficulty'], \n",
    "            label='Answered Incorrectly', shade=True, color='r')\n",
    "plt.title('Difficulty Distribution for Correct vs Incorrect Answers')\n",
    "plt.xlabel('Difficulty')\n",
    "plt.ylabel('Density')\n",
    "plt.legend()\n",
    "plt.show()\n"
   ]
  },
  {
   "cell_type": "code",
   "execution_count": 83,
   "id": "0126d9b7",
   "metadata": {},
   "outputs": [
    {
     "name": "stdout",
     "output_type": "stream",
     "text": [
      "0    1.572793\n",
      "1   -1.920777\n",
      "2   -0.482901\n",
      "3    0.360224\n",
      "4    1.211066\n",
      "Name: difficulty, dtype: float64\n"
     ]
    }
   ],
   "source": [
    "# Access the difficulty column\n",
    "difficulty_values = student_response_clean['difficulty']\n",
    "\n",
    "# View the first few values\n",
    "print(difficulty_values.head())\n"
   ]
  },
  {
   "cell_type": "code",
   "execution_count": 87,
   "id": "e449e5b6",
   "metadata": {},
   "outputs": [
    {
     "name": "stdout",
     "output_type": "stream",
     "text": [
      "         difficulty\n",
      "count  95000.000000\n",
      "mean       0.034742\n",
      "std        1.120782\n",
      "min       -2.157522\n",
      "25%       -0.870725\n",
      "50%       -0.147794\n",
      "75%        1.069916\n",
      "max        2.194765\n"
     ]
    }
   ],
   "source": [
    "# Get descriptive statistics for difficulty\n",
    "difficulty_stats = student_response_clean['difficulty'].describe()\n",
    "gh=pd.DataFrame(difficulty_stats)\n",
    "print(gh)\n"
   ]
  },
  {
   "cell_type": "code",
   "execution_count": 85,
   "id": "0413ddd1",
   "metadata": {},
   "outputs": [
    {
     "name": "stdout",
     "output_type": "stream",
     "text": [
      "1.5727927251217235\n"
     ]
    }
   ],
   "source": [
    "# Get the difficulty value for the first entry\n",
    "first_difficulty_value = student_response_clean['difficulty'][0]\n",
    "print(first_difficulty_value)\n"
   ]
  },
  {
   "cell_type": "code",
   "execution_count": 88,
   "id": "f3bbe1db",
   "metadata": {},
   "outputs": [
    {
     "name": "stdout",
     "output_type": "stream",
     "text": [
      "answered_correctly\n",
      "False    0.473874\n",
      "True    -0.382960\n",
      "Name: difficulty, dtype: float64\n"
     ]
    }
   ],
   "source": [
    "# Get mean difficulty by correctness\n",
    "mean_difficulty_by_correctness = student_response_clean.groupby('answered_correctly')['difficulty'].mean()\n",
    "\n",
    "print(mean_difficulty_by_correctness)\n"
   ]
  },
  {
   "cell_type": "code",
   "execution_count": 90,
   "id": "b888e5e9",
   "metadata": {},
   "outputs": [
    {
     "data": {
      "image/png": "[encoded data removed]",
      "text/plain": [
       "<Figure size 720x432 with 1 Axes>"
      ]
     },
     "metadata": {
      "needs_background": "light"
     },
     "output_type": "display_data"
    }
   ],
   "source": [
    "import matplotlib.pyplot as plt\n",
    "import seaborn as sns\n",
    "\n",
    "# Plot a histogram for the 'difficulty' column\n",
    "plt.figure(figsize=(10, 6))\n",
    "sns.histplot(student_response_clean['difficulty'], bins=20, kde=True, color='purple')\n",
    "\n",
    "plt.title('Distribution of Difficulty')\n",
    "plt.xlabel('Difficulty')\n",
    "plt.ylabel('Frequency')\n",
    "plt.grid(True)\n",
    "plt.show()\n"
   ]
  },
  {
   "cell_type": "code",
   "execution_count": 91,
   "id": "768f7c66",
   "metadata": {},
   "outputs": [
    {
     "data": {
      "image/png": "[encoded data removed]",
      "text/plain": [
       "<Figure size 864x432 with 1 Axes>"
      ]
     },
     "metadata": {
      "needs_background": "light"
     },
     "output_type": "display_data"
    }
   ],
   "source": [
    "import matplotlib.pyplot as plt\n",
    "import seaborn as sns\n",
    "\n",
    "# Plot difficulty over question_id to see if there is a trend\n",
    "plt.figure(figsize=(12, 6))\n",
    "sns.lineplot(x='question_id', y='difficulty', data=student_response_clean, color='b', marker='o')\n",
    "plt.title('Difficulty of Questions Over Time (By Question ID)')\n",
    "plt.xlabel('Question ID')\n",
    "plt.ylabel('Difficulty')\n",
    "plt.grid(True)\n",
    "plt.show()\n"
   ]
  },
  {
   "cell_type": "code",
   "execution_count": 92,
   "id": "7ffa2470",
   "metadata": {},
   "outputs": [
    {
     "data": {
      "image/png": "[encoded data removed]",
      "text/plain": [
       "<Figure size 720x432 with 1 Axes>"
      ]
     },
     "metadata": {
      "needs_background": "light"
     },
     "output_type": "display_data"
    }
   ],
   "source": [
    "# Group by ranges of question_id (e.g., split the questions into 10 groups)\n",
    "student_response_clean['question_id_group'] = pd.cut(student_response_clean['question_id'], bins=10)\n",
    "\n",
    "# Calculate the mean difficulty for each group\n",
    "difficulty_by_group = student_response_clean.groupby('question_id_group')['difficulty'].mean()\n",
    "\n",
    "# Plot the difficulty across the groups\n",
    "plt.figure(figsize=(10, 6))\n",
    "difficulty_by_group.plot(kind='line', marker='o')\n",
    "plt.title('Change in Difficulty by Question ID Group')\n",
    "plt.xlabel('Question ID Group')\n",
    "plt.ylabel('Mean Difficulty')\n",
    "plt.grid(True)\n",
    "plt.show()\n"
   ]
  },
  {
   "cell_type": "code",
   "execution_count": null,
   "id": "1a620900",
   "metadata": {},
   "outputs": [],
   "source": []
  }
 ],
 "metadata": {
  "kernelspec": {
   "display_name": "Python 3 (ipykernel)",
   "language": "python",
   "name": "python3"
  },
  "language_info": {
   "codemirror_mode": {
    "name": "ipython",
    "version": 3
   },
   "file_extension": ".py",
   "mimetype": "text/x-python",
   "name": "python",
   "nbconvert_exporter": "python",
   "pygments_lexer": "ipython3",
   "version": "3.9.7"
  }
 },
 "nbformat": 4,
 "nbformat_minor": 5
}
